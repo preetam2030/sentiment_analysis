{
 "metadata": {
  "language_info": {
   "codemirror_mode": {
    "name": "ipython",
    "version": 3
   },
   "file_extension": ".py",
   "mimetype": "text/x-python",
   "name": "python",
   "nbconvert_exporter": "python",
   "pygments_lexer": "ipython3",
   "version": 3
  },
  "orig_nbformat": 2,
  "kernelspec": {
   "name": "python_defaultSpec_1596175516948",
   "display_name": "Python 3.8.2 32-bit"
  }
 },
 "nbformat": 4,
 "nbformat_minor": 2,
 "cells": [
  {
   "cell_type": "code",
   "execution_count": 1,
   "metadata": {},
   "outputs": [],
   "source": [
    "import pandas as pd\n",
    "import numpy as np \n",
    "from sklearn.model_selection import train_test_split\n",
    "from sklearn.feature_extraction.text import TfidfVectorizer\n",
    "from sklearn.svm import SVC\n",
    "from sklearn.metrics import roc_auc_score"
   ]
  },
  {
   "cell_type": "code",
   "execution_count": 2,
   "metadata": {
    "tags": []
   },
   "outputs": [
    {
     "output_type": "stream",
     "name": "stdout",
     "text": "<class 'pandas.core.frame.DataFrame'>\nInt64Index: 10000 entries, 370692 to 347047\nData columns (total 9 columns):\n #   Column                  Non-Null Count  Dtype \n---  ------                  --------------  ----- \n 0   ProductId               10000 non-null  object\n 1   UserId                  10000 non-null  object\n 2   ProfileName             10000 non-null  object\n 3   HelpfulnessNumerator    10000 non-null  int64 \n 4   HelpfulnessDenominator  10000 non-null  int64 \n 5   Score                   10000 non-null  int64 \n 6   Time                    10000 non-null  int64 \n 7   Summary                 10000 non-null  object\n 8   Text                    10000 non-null  object\ndtypes: int64(4), object(5)\nmemory usage: 585.9+ KB\n"
    }
   ],
   "source": [
    "df=pd.read_csv('Reviews.csv',index_col='Id')\n",
    "df=df.sample(n=10000,random_state=2)\n",
    "df.info()\n"
   ]
  },
  {
   "cell_type": "code",
   "execution_count": 3,
   "metadata": {},
   "outputs": [
    {
     "output_type": "execute_result",
     "data": {
      "text/plain": "2    7728\n0    1472\n1     800\nName: Score, dtype: int64"
     },
     "metadata": {},
     "execution_count": 3
    }
   ],
   "source": [
    "df=df.replace({'Score': {5:2,4:2,3:1,2:0,1:0}})\n",
    "df['Score'].value_counts()"
   ]
  },
  {
   "cell_type": "code",
   "execution_count": 4,
   "metadata": {
    "tags": []
   },
   "outputs": [
    {
     "output_type": "stream",
     "name": "stdout",
     "text": "1.0\n0.8528\n"
    }
   ],
   "source": [
    "X=df['Text']\n",
    "y=df['Score']\n",
    "X_train,X_test,y_train,y_test=train_test_split(X,y,random_state=0)\n",
    "\n",
    "len_train = [len(x) for x in X_train]\n",
    "len_test = [len(x) for x in X_test]\n",
    "\n",
    "vect=TfidfVectorizer(ngram_range=(1,2)).fit(X_train)\n",
    "X_train_tf = vect.transform(X_train)\n",
    "X_test_tf = vect.transform(X_test)\n",
    "\n",
    "clf = SVC(kernel = 'linear', C = 4)\n",
    "clf.fit(X_train_tf, y_train)    \n",
    "print(clf.score(X_train_tf,y_train))\n",
    "print(clf.score(X_test_tf,y_test))"
   ]
  },
  {
   "cell_type": "code",
   "execution_count": 20,
   "metadata": {},
   "outputs": [],
   "source": [
    "lst=['Bad','Average','Good']"
   ]
  },
  {
   "cell_type": "code",
   "execution_count": 26,
   "metadata": {
    "tags": []
   },
   "outputs": [
    {
     "output_type": "stream",
     "name": "stdout",
     "text": "Good\n"
    }
   ],
   "source": [
    "print(lst[clf.predict(vect.transform(['Too expensive']))[0]])"
   ]
  },
  {
   "cell_type": "code",
   "execution_count": null,
   "metadata": {},
   "outputs": [],
   "source": []
  }
 ]
}